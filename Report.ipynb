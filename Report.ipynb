{
 "cells": [
  {
   "cell_type": "markdown",
   "metadata": {
    "collapsed": true
   },
   "source": [
    "# Continuous Control using Proximal Policy Optimization\n",
    "\n",
    "---\n",
    "\n",
    "In this notebook, you will train an a double-jointed arm to move to a target location using \n",
    "Proximal Policy Optimization.\n",
    "\n",
    "Make sure, you followed the installation instructions which you can find in the [Readme](./Readme.md) of this repo.\n"
   ]
  },
  {
   "cell_type": "markdown",
   "metadata": {},
   "source": [
    "First define some utility functions and import necessary packages."
   ]
  },
  {
   "cell_type": "code",
   "execution_count": 1,
   "metadata": {
    "collapsed": true
   },
   "outputs": [],
   "source": [
    "from IPython.display import clear_output\n",
    "import matplotlib.pyplot as plt\n",
    "from datetime import datetime\n",
    "%matplotlib inline\n",
    "\n",
    "def plot(scores=[], ylabel=\"Scores\", xlabel=\"Episode #\", title=\"\", text=\"\", save=False):\n",
    "    fig, ax = plt.subplots()\n",
    "\n",
    "    for score in scores:\n",
    "        ax.plot(np.arange(len(score)), score)\n",
    "    xlabel = \"\\n\".join([xlabel, text])\n",
    "    ax.set(xlabel=xlabel, ylabel=ylabel,\n",
    "           title=title)\n",
    "    ax.grid()\n",
    "    fig.tight_layout()\n",
    "    if save is True:\n",
    "        fig.savefig(f\"plot_{datetime.datetime.now().isoformat().replace(':', '')}.png\")\n",
    "    plt.show()\n"
   ]
  },
  {
   "cell_type": "code",
   "execution_count": 3,
   "metadata": {
    "collapsed": true
   },
   "outputs": [],
   "source": [
    "from unityagents import UnityEnvironment\n",
    "import numpy as np"
   ]
  },
  {
   "cell_type": "markdown",
   "metadata": {},
   "source": [
    "Next, we will start the environment!  **_Before running the code cell below_**, change the `file_name` parameter to match the location of the Unity environment that you downloaded.\n",
    "\n",
    "- **Mac**: `\"path/to/Reacher.app\"`\n",
    "- **Windows** (x86): `\"path/to/Reacher_Windows_x86/Reacher.exe\"`\n",
    "- **Windows** (x86_64): `\"path/to/Reacher_Windows_x86_64/Reacher.exe\"`\n",
    "- **Linux** (x86): `\"path/to/Reacher_Linux/Reacher.x86\"`\n",
    "- **Linux** (x86_64): `\"path/to/Reacher_Linux/Reacher.x86_64\"`\n",
    "- **Linux** (x86, headless): `\"path/to/Reacher_Linux_NoVis/Reacher.x86\"`\n",
    "- **Linux** (x86_64, headless): `\"path/to/Reacher_Linux_NoVis/Reacher.x86_64\"`\n",
    "\n",
    "For instance, if you are using a Mac, then you downloaded `Reacher.app`.  If this file is in the same folder as the notebook, then the line below should appear as follows:\n",
    "```\n",
    "env = UnityEnvironment(file_name=\"Reacher.app\")\n",
    "```"
   ]
  },
  {
   "cell_type": "code",
   "execution_count": 7,
   "metadata": {
    "collapsed": false
   },
   "outputs": [
    {
     "name": "stderr",
     "output_type": "stream",
     "text": [
      "INFO:unityagents:\n",
      "'Academy' started successfully!\n",
      "Unity Academy name: Academy\n",
      "        Number of Brains: 1\n",
      "        Number of External Brains : 1\n",
      "        Lesson number : 0\n",
      "        Reset Parameters :\n",
      "\t\tgoal_speed -> 1.0\n",
      "\t\tgoal_size -> 5.0\n",
      "Unity brain name: ReacherBrain\n",
      "        Number of Visual Observations (per agent): 0\n",
      "        Vector Observation space type: continuous\n",
      "        Vector Observation space size (per agent): 33\n",
      "        Number of stacked Vector Observation: 1\n",
      "        Vector Action space type: continuous\n",
      "        Vector Action space size (per agent): 4\n",
      "        Vector Action descriptions: , , , \n"
     ]
    }
   ],
   "source": [
    "env = UnityEnvironment(file_name='reacher20/reacher')"
   ]
  },
  {
   "cell_type": "markdown",
   "metadata": {},
   "source": [
    "Environments contain **_brains_** which are responsible for deciding the actions of their associated agents. Here we check for the first brain available, and set it as the default brain we will be controlling from Python."
   ]
  },
  {
   "cell_type": "code",
   "execution_count": 10,
   "metadata": {
    "collapsed": false
   },
   "outputs": [
    {
     "name": "stdout",
     "output_type": "stream",
     "text": [
      "Brain name: ReacherBrain\n"
     ]
    }
   ],
   "source": [
    "# get the default brain\n",
    "brain_name = env.brain_names[0]\n",
    "brain = env.brains[brain_name]\n",
    "print(f\"Brain name: {brain_name}\")"
   ]
  },
  {
   "cell_type": "markdown",
   "metadata": {},
   "source": [
    "### 2. Examine the State and Action Spaces\n",
    "\n",
    "In this environment, twenty double-jointed arms can move to target locations. A reward of `+0.1` is provided for each step that the agent's hand is in the goal location. Thus, the goal of the agent is to maintain its position at the target location for as many time steps as possible.\n",
    "\n",
    "The observation space consists of `33` variables corresponding to position, rotation, velocity, and angular velocities of the arm.  Each action is a vector with four numbers, corresponding to torque applicable to two joints.  Every entry in the action vector must be a number between `-1` and `1`.\n",
    "\n",
    "Run the code cell below to print some information about the environment."
   ]
  },
  {
   "cell_type": "code",
   "execution_count": 11,
   "metadata": {
    "collapsed": false
   },
   "outputs": [
    {
     "name": "stdout",
     "output_type": "stream",
     "text": [
      "Number of agents: 20\n",
      "Size of each action: 4\n",
      "There are 20 agents. Each observes a state with length: 33\n",
      "The state for the first agent looks like: [ 0.00000000e+00 -4.00000000e+00  0.00000000e+00  1.00000000e+00\n",
      " -0.00000000e+00 -0.00000000e+00 -4.37113883e-08  0.00000000e+00\n",
      "  0.00000000e+00  0.00000000e+00  0.00000000e+00  0.00000000e+00\n",
      "  0.00000000e+00  0.00000000e+00 -1.00000000e+01  0.00000000e+00\n",
      "  1.00000000e+00 -0.00000000e+00 -0.00000000e+00 -4.37113883e-08\n",
      "  0.00000000e+00  0.00000000e+00  0.00000000e+00  0.00000000e+00\n",
      "  0.00000000e+00  0.00000000e+00  5.75471878e+00 -1.00000000e+00\n",
      "  5.55726624e+00  0.00000000e+00  1.00000000e+00  0.00000000e+00\n",
      " -1.68164849e-01]\n"
     ]
    }
   ],
   "source": [
    "# reset the environment\n",
    "env_info = env.reset(train_mode=True)[brain_name]\n",
    "\n",
    "# number of agents\n",
    "num_agents = len(env_info.agents)\n",
    "print('Number of agents:', num_agents)\n",
    "\n",
    "# size of each action\n",
    "action_size = brain.vector_action_space_size\n",
    "print('Size of each action:', action_size)\n",
    "\n",
    "# examine the state space \n",
    "states = env_info.vector_observations\n",
    "state_size = states.shape[1]\n",
    "print('There are {} agents. Each observes a state with length: {}'.format(states.shape[0], state_size))\n",
    "print('The state for the first agent looks like:', states[0])"
   ]
  },
  {
   "cell_type": "markdown",
   "metadata": {},
   "source": [
    "### 3. Take Random Actions in the Environment\n",
    "\n",
    "In the next code cell, we will control the agent and receive feedback from the environment.\n",
    "\n",
    "Once this cell is executed, you will watch the agent's performance, if it selects an action at random with each time step.  A window should pop up that allows you to observe the agent, as it moves through the environment.\n",
    "At the end, you will get a plot of all agents' scores."
   ]
  },
  {
   "cell_type": "code",
   "execution_count": 20,
   "metadata": {
    "collapsed": false
   },
   "outputs": [
    {
     "name": "stdout",
     "output_type": "stream",
     "text": [
      "Mean score over last 100 steps  8.999999798834324e-05  steps:  1001\n"
     ]
    },
    {
     "data": {
      "image/png": "[encoded data removed]",
      "text/plain": [
       "<Figure size 432x288 with 1 Axes>"
      ]
     },
     "metadata": {
      "needs_background": "light"
     },
     "output_type": "display_data"
    },
    {
     "name": "stdout",
     "output_type": "stream",
     "text": [
      "Total score (averaged over agents) this episode: 0.00013786213478067896\n"
     ]
    }
   ],
   "source": [
    "from collections import deque\n",
    "\n",
    "env_info = env.reset(train_mode=True)[brain_name]     # reset the environment    \n",
    "states = env_info.vector_observations                  # get the current state (for each agent)\n",
    "#scores = np.zeros(num_agents)                          # initialize the score (for each agent)\n",
    "scores_window = deque(maxlen=100)  # last 100 scores\n",
    "scores = []\n",
    "steps=0\n",
    "while True:\n",
    "    steps += 1\n",
    "    actions = np.random.randn(num_agents, action_size) # select an action (for each agent)\n",
    "    actions = np.clip(actions, -1, 1)                  # all actions between -1 and 1\n",
    "    env_info = env.step(actions)[brain_name]           # send all actions to tne environment\n",
    "    next_states = env_info.vector_observations         # get next state (for each agent)\n",
    "    rewards = env_info.rewards                         # get reward (for each agent)\n",
    "    dones = env_info.local_done                        # see if episode finished\n",
    "    scores.append(env_info.rewards)          # update the score (for each agent)\n",
    "    scores_window.append(env_info.rewards)                         # update the score (for each agent)\n",
    "    states = next_states                               # roll over states to next time step\n",
    "    if np.any(dones):                                  # exit loop if episode finished\n",
    "        print(\"Mean score over last 100 steps \", np.mean(scores_window), \" steps: \", steps)\n",
    "        plot(scores)\n",
    "        break\n",
    "    \n",
    "print('Total score (averaged over agents) this episode: {}'.format(np.mean(scores)))"
   ]
  },
  {
   "cell_type": "code",
   "execution_count": 33,
   "metadata": {
    "collapsed": true
   },
   "outputs": [],
   "source": [
    "env.close()"
   ]
  },
  {
   "cell_type": "markdown",
   "metadata": {},
   "source": [
    "## Traing the agents using Proximal Policy Optimization\n",
    "\n",
    "### PPO in a nutshell\n",
    "\n",
    "1. First, collect some trajectories based on some policy $\\pi_\\theta$, and initialize theta prime $\\theta'=\\theta$ \n",
    "\n",
    "2. Next, compute the gradient of the clipped surrogate function using the trajectories\n",
    "3. Update $\\theta'$ using gradient ascent $\\theta'\\leftarrow\\theta' +\\alpha \\nabla_{\\theta'}L_{\\rm sur}^{\\rm clip}(\\theta', \\theta)$ \n",
    "4. Then we repeat step 2-3 without generating new trajectories. Typically, step 2-3 are only repeated a few times\n",
    "5. Set $\\theta=\\theta'$, go back to step 1 to generate more trajectories, repeat.\n",
    "\n"
   ]
  },
  {
   "cell_type": "markdown",
   "metadata": {},
   "source": [
    "... but first let's setup our Actor Critic Network."
   ]
  },
  {
   "cell_type": "code",
   "execution_count": 2,
   "metadata": {
    "collapsed": true
   },
   "outputs": [],
   "source": [
    "import torch\n",
    "import torch.nn as nn\n",
    "import torch.optim as optim\n",
    "import torch.nn.functional as F\n",
    "from torch.distributions import Normal"
   ]
  },
  {
   "cell_type": "markdown",
   "metadata": {},
   "source": [
    "Define the network. It consists of two networks. One Actor, one critic."
   ]
  },
  {
   "cell_type": "code",
   "execution_count": 3,
   "metadata": {
    "collapsed": true
   },
   "outputs": [],
   "source": [
    "class ActorCritic(nn.Module):\n",
    "    def __init__(self, num_inputs, num_outputs, hidden_size = 256, std=0.0):\n",
    "        super(ActorCritic, self).__init__()\n",
    "\n",
    "        self.critic = nn.Sequential(\n",
    "            nn.Linear(num_inputs, hidden_size),\n",
    "            nn.ReLU(),\n",
    "            nn.Linear(hidden_size, hidden_size),\n",
    "            nn.ReLU(),\n",
    "            nn.Linear(hidden_size, 1)\n",
    "        )\n",
    "\n",
    "        self.actor = nn.Sequential(\n",
    "            nn.Linear(num_inputs, hidden_size),\n",
    "            nn.ReLU(),\n",
    "            nn.Linear(hidden_size, hidden_size),\n",
    "            nn.ReLU(),\n",
    "            nn.Linear(hidden_size, num_outputs),\n",
    "            nn.Tanh(),\n",
    "        )\n",
    "        self.log_std = nn.Parameter(torch.ones(1, num_outputs) * std)\n",
    "\n",
    "    def forward(self, x):\n",
    "        value = self.critic(x)\n",
    "        mu = self.actor(x)\n",
    "        std = self.log_std.exp().expand_as(mu)\n",
    "        # std   = self.log_std.exp().squeeze(0).expand_as(mu)\n",
    "        dist = torch.distributions.Normal(mu, std)\n",
    "        return dist, value\n"
   ]
  },
  {
   "cell_type": "markdown",
   "metadata": {},
   "source": [
    "...the function to sample trajectories"
   ]
  },
  {
   "cell_type": "code",
   "execution_count": 4,
   "metadata": {
    "collapsed": true
   },
   "outputs": [],
   "source": [
    "def sample(mini_batch_size, states, actions, log_probs, returns, advantage):\n",
    "    batch_size = states.size(0)\n",
    "    for _ in range(batch_size // mini_batch_size):\n",
    "        rand_ids = np.random.randint(0, batch_size, mini_batch_size)\n",
    "        yield states[rand_ids, :], actions[rand_ids, :], log_probs[rand_ids, :], returns[rand_ids, :], advantage[rand_ids, :]"
   ]
  },
  {
   "cell_type": "markdown",
   "metadata": {},
   "source": [
    "Compute the gradient of the clipped surrogate function using the trajectories\n",
    "\n",
    "Update $\\theta'$ using gradient ascent $\\theta'\\leftarrow\\theta' +\\alpha \\nabla_{\\theta'}L_{\\rm sur}^{\\rm clip}(\\theta', \\theta)$\n",
    "\n",
    "Repeat *ppo_epochs* times. \n"
   ]
  },
  {
   "cell_type": "code",
   "execution_count": 5,
   "metadata": {
    "collapsed": true
   },
   "outputs": [],
   "source": [
    "def learn(ppo_epochs, mini_batch_size, states, actions, log_probs, returns, advantages, model, optimizer,\n",
    "               clip_param=0.2, clip_gradients=False):\n",
    "    for _ in range(ppo_epochs):\n",
    "        for state, action, old_log_probs, return_, advantage in sample(mini_batch_size, states, actions, log_probs,\n",
    "                                                                         returns, advantages):\n",
    "            dist, value = model(state)\n",
    "            entropy = dist.entropy().mean()\n",
    "            new_log_probs = dist.log_prob(action)\n",
    "            new_log_probs = torch.sum(new_log_probs, dim=1, keepdim=True)\n",
    "\n",
    "            ratio = (new_log_probs - old_log_probs).exp()\n",
    "            #surrogate objective\n",
    "            surr1 = ratio * advantage\n",
    "            #clipped\n",
    "            surr2 = torch.clamp(ratio, 1.0 - clip_param, 1.0 + clip_param) * advantage\n",
    "\n",
    "            #update theta prime\n",
    "            actor_loss = - torch.min(surr1, surr2).mean()\n",
    "            critic_loss = (return_ - value).pow(2).mean()\n",
    "\n",
    "            loss = 0.5 * critic_loss + actor_loss - 0.001 * entropy\n",
    "\n",
    "            optimizer.zero_grad()\n",
    "            loss.backward()\n",
    "            if clip_gradients:\n",
    "                    nn.utils.clip_grad_norm_(model.parameters(), 5)\n",
    "            optimizer.step()"
   ]
  },
  {
   "cell_type": "code",
   "execution_count": null,
   "metadata": {
    "collapsed": true
   },
   "outputs": [],
   "source": []
  },
  {
   "cell_type": "code",
   "execution_count": 6,
   "metadata": {
    "collapsed": false
   },
   "outputs": [],
   "source": [
    "from collections import deque\n",
    "import os\n",
    "from tqdm import tqdm\n",
    "import datetime\n",
    "from unityagents import UnityEnvironment\n",
    "import numpy as np\n",
    "\n",
    "\n",
    "def test_agent(env, brain_name, model, device):\n",
    "    env_info = env.reset(train_mode=True)[brain_name]\n",
    "    states = env_info.vector_observations\n",
    "    num_agents = len(env_info.agents)\n",
    "    scores = np.zeros(num_agents)\n",
    "    while True:\n",
    "        states = torch.FloatTensor(states).to(device)\n",
    "        dist, _ = model(states)\n",
    "        action_t = dist.sample()\n",
    "        action_np = action_t.cpu().data.numpy()\n",
    "        env_info = env.step(action_np)[brain_name]\n",
    "        next_states = env_info.vector_observations\n",
    "        rewards = env_info.rewards\n",
    "        dones = env_info.local_done\n",
    "        scores += rewards\n",
    "        states = next_states\n",
    "        if np.any(dones):\n",
    "            break\n",
    "    return np.mean(scores)\n",
    "\n",
    "def compute_gae(next_value, rewards, masks, values, gamma=0.99, tau=0.95):\n",
    "    values = values + [next_value]\n",
    "    advantage = 0\n",
    "    returns = []\n",
    "    for step in reversed(range(len(rewards))):\n",
    "        td_error = rewards[step] + gamma * values[step + 1] * masks[step] - values[step]\n",
    "        advantage = advantage * tau * gamma * masks[step] + td_error\n",
    "        returns.insert(0, advantage + values[step])\n",
    "    return returns\n",
    "\n",
    "def run_experiment(hidden_size, lr, max_episodes, mini_batch_size, nrmlz_adv, num_steps, ppo_epochs, threshold_reward, clip_gradients):\n",
    "    scores_window, test_rewards = experiment(hidden_size=hidden_size, lr=lr, num_steps=num_steps,\n",
    "                                             mini_batch_size=mini_batch_size, ppo_epochs=ppo_epochs,\n",
    "                                             threshold_reward=threshold_reward, max_episodes=max_episodes,\n",
    "                                             nrmlz_adv=nrmlz_adv, clip_gradients=clip_gradients)\n",
    "    test_mean_reward = np.mean(test_rewards)\n",
    "    text = \"\\n\".join([f\"HS:{hidden_size} lr:{lr} st:{num_steps} batch:{mini_batch_size} ppo:{ppo_epochs}\",\n",
    "                      f\" r:{threshold_reward} e:{max_episodes} adv:{nrmlz_adv} mean {test_mean_reward}\"])\n",
    "    plot([scores_window], \"Last # Scores\", text=text)\n",
    "    return scores_window, test_rewards\n",
    "\n",
    "def experiment(hidden_size=64, lr=3e-4, num_steps=2048, mini_batch_size=32, ppo_epochs=10, threshold_reward=10,\n",
    "               max_episodes=15, nrmlz_adv=True, clip_gradients=True):\n",
    "    use_cuda = torch.cuda.is_available()\n",
    "    #    device   = torch.device(\"cuda\" if use_cuda else \"cpu\")\n",
    "    device = torch.device(\"cpu\")\n",
    "    print(device)\n",
    "    scores_window = deque(maxlen=100)\n",
    "\n",
    "    test_rewards = []\n",
    "\n",
    "    env = UnityEnvironment(file_name='reacher20/reacher', base_port=64739)\n",
    "    # get the default brain\n",
    "    brain_name = env.brain_names[0]\n",
    "    brain = env.brains[brain_name]\n",
    "    # reset the environment\n",
    "    env_info = env.reset(train_mode=True)[brain_name]\n",
    "    action_size = brain.vector_action_space_size\n",
    "    num_agents = len(env_info.agents)\n",
    "    states = env_info.vector_observations\n",
    "    state_size = states.shape[1]\n",
    "\n",
    "    num_inputs = state_size\n",
    "    num_outputs = action_size\n",
    "\n",
    "    model = ActorCritic(num_inputs, num_outputs, hidden_size).to(device)\n",
    "    optimizer = optim.Adam(model.parameters(), lr=lr, eps=1e-5)\n",
    "\n",
    "    for episode in tqdm(range(max_episodes)):\n",
    "        log_probs = []\n",
    "        values = []\n",
    "        states_list = []\n",
    "        actions_list = []\n",
    "        rewards = []\n",
    "        masks = []\n",
    "        env_info = env.reset(train_mode=True)[brain_name]\n",
    "        state = env_info.vector_observations\n",
    "        for duration in range(num_steps):\n",
    "\n",
    "            state = torch.FloatTensor(state).to(device)\n",
    "            dist, value = model(state)\n",
    "            action_t = dist.sample()\n",
    "            action_np = action_t.cpu().data.numpy()\n",
    "            env_info = env.step(action_np)[brain_name]  # send all actions to the environment\n",
    "\n",
    "            next_state = env_info.vector_observations  # get next state (for each agent)\n",
    "            reward = env_info.rewards  # get reward (for each agent)\n",
    "            dones = np.array(env_info.local_done)  # see if episode finished\n",
    "            if reward == None:\n",
    "                pass\n",
    "            log_prob = dist.log_prob(action_t)\n",
    "            log_prob = torch.sum(log_prob, dim=1, keepdim=True)\n",
    "            log_probs.append(log_prob)\n",
    "            values.append(value)\n",
    "            reward_t = torch.FloatTensor(reward).unsqueeze(1).to(device)\n",
    "            masks_t = torch.FloatTensor(1 - dones)\n",
    "            rewards.append(reward_t)\n",
    "            masks.append(masks_t)\n",
    "            states_list.append(state)\n",
    "            actions_list.append(action_t)\n",
    "\n",
    "            state = next_state\n",
    "\n",
    "            if np.any(dones):\n",
    "                break\n",
    "\n",
    "        next_state = torch.FloatTensor(state).to(device)\n",
    "        _, next_value = model(next_state)\n",
    "\n",
    "        mean1 = torch.mean(torch.stack(rewards))\n",
    "        print(\"Rewards: \", mean1)\n",
    "        returns = compute_gae(next_value, rewards, masks, values)\n",
    "\n",
    "        returns = torch.cat(returns).detach()\n",
    "#        mean2 = torch.mean(returns)\n",
    "#        print(\"Returns: \", mean2)\n",
    "\n",
    "        log_probs = torch.cat(log_probs).detach()\n",
    "        values = torch.cat(values).detach()\n",
    "        states = torch.cat(states_list)\n",
    "        actions = torch.cat(actions_list)\n",
    "        advantages = returns - values\n",
    "        if nrmlz_adv:\n",
    "            advantages = (advantages - advantages.mean()) / (advantages.std() + 1e-8)\n",
    "\n",
    "        losses = []\n",
    "\n",
    "        clip_param = 0.2\n",
    "        learn(ppo_epochs=ppo_epochs, mini_batch_size = mini_batch_size, \n",
    "              states=states, actions=actions, log_probs = log_probs, \n",
    "              returns = returns, advantages = advantages,\n",
    "              model = model, optimizer = optimizer,\n",
    "               clip_param=0.2, clip_gradients=False)\n",
    "\n",
    "        test_mean_reward = test_agent(env, brain_name, model, device)\n",
    "        test_rewards.append(test_mean_reward)\n",
    "        scores_window.append(test_mean_reward)\n",
    "        print('Episode {}, Total score this episode: {}, Last {} average: {}'.format(episode, test_mean_reward,\n",
    "                                                                                     min(episode, 100),\n",
    "                                                                                     np.mean(scores_window)))\n",
    "        if np.mean(scores_window) > threshold_reward:\n",
    "            torch.save(model.state_dict(),\n",
    "                       f\"ppo_checkpoint_{test_mean_reward}_e{episode}_hs{hidden_size}_lr{lr}_st{num_steps}_b{mini_batch_size}_ppo{ppo_epochs}_r{threshold_reward}_e{episode}_adv{nrmlz_adv}_{test_mean_reward}.pth\")\n",
    "            print('\\nEnvironment solved in {:d} episodes!\\tAverage Score: {:.2f}'.format(episode, test_mean_reward))\n",
    "            break\n",
    "\n",
    "        episode += 1\n",
    "\n",
    "    env.close()\n",
    "    return scores_window, test_rewards\n",
    "\n"
   ]
  },
  {
   "cell_type": "code",
   "execution_count": null,
   "metadata": {
    "collapsed": false
   },
   "outputs": [],
   "source": [
    "# Hyper params:\n",
    "hidden_size = 256\n",
    "lr = 3e-4\n",
    "num_steps = 2048\n",
    "mini_batch_size = 512\n",
    "ppo_epochs = 3\n",
    "threshold_reward = 10\n",
    "max_episodes = 15  # 1e5\n",
    "episode = 0\n",
    "nrmlz_adv = True\n",
    "test_mean_reward = 1.\n",
    "\n",
    "scores = [\n",
    "\n",
    "run_experiment(hidden_size=256, lr=1e-3, max_episodes=1000, mini_batch_size=256,\n",
    "                                                  nrmlz_adv=True, num_steps=2048, ppo_epochs=4, threshold_reward=30, clip_gradients=True)]\n",
    "plot([x[0] for x in scores], \"Scores\")\n"
   ]
  },
  {
   "cell_type": "code",
   "execution_count": 39,
   "metadata": {
    "collapsed": false
   },
   "outputs": [
    {
     "ename": "UnityEnvironmentException",
     "evalue": "No Unity environment is loaded.",
     "output_type": "error",
     "traceback": [
      "\u001b[1;31m---------------------------------------------------------------------------\u001b[0m",
      "\u001b[1;31mUnityEnvironmentException\u001b[0m                 Traceback (most recent call last)",
      "\u001b[1;32m<ipython-input-39-1baceacf4cb1>\u001b[0m in \u001b[0;36m<module>\u001b[1;34m\u001b[0m\n\u001b[1;32m----> 1\u001b[1;33m \u001b[0menv\u001b[0m\u001b[1;33m.\u001b[0m\u001b[0mclose\u001b[0m\u001b[1;33m(\u001b[0m\u001b[1;33m)\u001b[0m\u001b[1;33m\u001b[0m\u001b[1;33m\u001b[0m\u001b[0m\n\u001b[0m",
      "\u001b[1;32m~\\AppData\\Local\\conda\\conda\\envs\\udacity-p1\\lib\\site-packages\\unityagents\\environment.py\u001b[0m in \u001b[0;36mclose\u001b[1;34m(self)\u001b[0m\n\u001b[0;32m    392\u001b[0m             \u001b[0mself\u001b[0m\u001b[1;33m.\u001b[0m\u001b[0m_close\u001b[0m\u001b[1;33m(\u001b[0m\u001b[1;33m)\u001b[0m\u001b[1;33m\u001b[0m\u001b[1;33m\u001b[0m\u001b[0m\n\u001b[0;32m    393\u001b[0m         \u001b[1;32melse\u001b[0m\u001b[1;33m:\u001b[0m\u001b[1;33m\u001b[0m\u001b[1;33m\u001b[0m\u001b[0m\n\u001b[1;32m--> 394\u001b[1;33m             \u001b[1;32mraise\u001b[0m \u001b[0mUnityEnvironmentException\u001b[0m\u001b[1;33m(\u001b[0m\u001b[1;34m\"No Unity environment is loaded.\"\u001b[0m\u001b[1;33m)\u001b[0m\u001b[1;33m\u001b[0m\u001b[1;33m\u001b[0m\u001b[0m\n\u001b[0m\u001b[0;32m    395\u001b[0m \u001b[1;33m\u001b[0m\u001b[0m\n\u001b[0;32m    396\u001b[0m     \u001b[1;32mdef\u001b[0m \u001b[0m_close\u001b[0m\u001b[1;33m(\u001b[0m\u001b[0mself\u001b[0m\u001b[1;33m)\u001b[0m\u001b[1;33m:\u001b[0m\u001b[1;33m\u001b[0m\u001b[1;33m\u001b[0m\u001b[0m\n",
      "\u001b[1;31mUnityEnvironmentException\u001b[0m: No Unity environment is loaded."
     ]
    }
   ],
   "source": [
    "env.close()"
   ]
  },
  {
   "cell_type": "code",
   "execution_count": null,
   "metadata": {
    "collapsed": true
   },
   "outputs": [],
   "source": []
  }
 ],
 "metadata": {
  "anaconda-cloud": {},
  "kernelspec": {
   "display_name": "udacity-p1",
   "language": "python",
   "name": "udacity-p1"
  },
  "language_info": {
   "codemirror_mode": {
    "name": "ipython",
    "version": 3
   },
   "file_extension": ".py",
   "mimetype": "text/x-python",
   "name": "python",
   "nbconvert_exporter": "python",
   "pygments_lexer": "ipython3",
   "version": "3.6.7"
  }
 },
 "nbformat": 4,
 "nbformat_minor": 1
}
